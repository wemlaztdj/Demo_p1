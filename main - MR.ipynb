{
 "cells": [
  {
   "cell_type": "markdown",
   "metadata": {},
   "source": [
    "# Project1"
   ]
  },
  {
   "cell_type": "markdown",
   "metadata": {},
   "source": [
    "## Step 1\n",
    "Dependencies and Setup"
   ]
  },
  {
   "cell_type": "code",
   "execution_count": 70,
   "metadata": {},
   "outputs": [],
   "source": [
    "# Dependencies and Setup\n",
    "import matplotlib.pyplot as plt\n",
    "import pandas as pd\n",
    "import numpy as np\n",
    "import requests\n",
    "\n",
    "from scipy.stats import linregress\n",
    "\n",
    "# from api_keys import geoapify_key"
   ]
  },
  {
   "cell_type": "code",
   "execution_count": 71,
   "metadata": {},
   "outputs": [
    {
     "name": "stdout",
     "output_type": "stream",
     "text": [
      "<class 'pandas.core.frame.DataFrame'>\n",
      "RangeIndex: 21370 entries, 0 to 21369\n",
      "Data columns (total 13 columns):\n",
      " #   Column                 Non-Null Count  Dtype  \n",
      "---  ------                 --------------  -----  \n",
      " 0   index                  21370 non-null  int64  \n",
      " 1   OPE ID                 21370 non-null  int64  \n",
      " 2   School                 21370 non-null  object \n",
      " 3   City                   16825 non-null  object \n",
      " 4   State                  20350 non-null  object \n",
      " 5   Zip Code               16825 non-null  float64\n",
      " 6   School Type            21370 non-null  object \n",
      " 7   Loan Type              21370 non-null  object \n",
      " 8   Recipients             21370 non-null  int64  \n",
      " 9   # of Loans Originated  21370 non-null  int64  \n",
      " 10  $ of Loans Originated  21370 non-null  int64  \n",
      " 11  # of Disbursements     21370 non-null  int64  \n",
      " 12  $ of Disbursements     21370 non-null  int64  \n",
      "dtypes: float64(1), int64(7), object(5)\n",
      "memory usage: 2.1+ MB\n"
     ]
    }
   ],
   "source": [
    "# Load the CSV file\n",
    "df=pd.read_csv(\"./Resources/Kaggle/Student Loan Debt by School 2020-2021.csv\")\n",
    "df.info()"
   ]
  },
  {
   "cell_type": "code",
   "execution_count": 72,
   "metadata": {},
   "outputs": [
    {
     "name": "stdout",
     "output_type": "stream",
     "text": [
      "<class 'pandas.core.frame.DataFrame'>\n",
      "RangeIndex: 21370 entries, 0 to 21369\n",
      "Data columns (total 13 columns):\n",
      " #   Column                 Non-Null Count  Dtype \n",
      "---  ------                 --------------  ----- \n",
      " 0   index                  21370 non-null  int64 \n",
      " 1   OPE ID                 21370 non-null  int64 \n",
      " 2   School                 21370 non-null  object\n",
      " 3   City                   16825 non-null  object\n",
      " 4   State                  20350 non-null  object\n",
      " 5   Zip Code               21370 non-null  object\n",
      " 6   School Type            21370 non-null  object\n",
      " 7   Loan Type              21370 non-null  object\n",
      " 8   Recipients             21370 non-null  int32 \n",
      " 9   # of Loans Originated  21370 non-null  int32 \n",
      " 10  $ of Loans Originated  21370 non-null  int64 \n",
      " 11  # of Disbursements     21370 non-null  int32 \n",
      " 12  $ of Disbursements     21370 non-null  int64 \n",
      "dtypes: int32(3), int64(4), object(6)\n",
      "memory usage: 1.9+ MB\n"
     ]
    }
   ],
   "source": [
    "# Change data type and rename columns\n",
    "df['Zip Code'] = df['Zip Code'].fillna(-1).astype(int).astype(str).replace('-1', 'NaN')\n",
    "df['Recipients'] = df['Recipients'].astype(int)\n",
    "df['# of Loans Originated'] = df['# of Loans Originated'].astype(int)\n",
    "df['# of Disbursements'] = df['# of Disbursements'].astype(int)\n",
    "df.info()"
   ]
  },
  {
   "cell_type": "code",
   "execution_count": 73,
   "metadata": {},
   "outputs": [
    {
     "data": {
      "text/html": [
       "<div>\n",
       "<style scoped>\n",
       "    .dataframe tbody tr th:only-of-type {\n",
       "        vertical-align: middle;\n",
       "    }\n",
       "\n",
       "    .dataframe tbody tr th {\n",
       "        vertical-align: top;\n",
       "    }\n",
       "\n",
       "    .dataframe thead th {\n",
       "        text-align: right;\n",
       "    }\n",
       "</style>\n",
       "<table border=\"1\" class=\"dataframe\">\n",
       "  <thead>\n",
       "    <tr style=\"text-align: right;\">\n",
       "      <th></th>\n",
       "      <th>index</th>\n",
       "      <th>OPE ID</th>\n",
       "      <th>School</th>\n",
       "      <th>City</th>\n",
       "      <th>State</th>\n",
       "      <th>Zip Code</th>\n",
       "      <th>School Type</th>\n",
       "      <th>Loan Type</th>\n",
       "      <th>Recipients</th>\n",
       "      <th># of Loans Originated</th>\n",
       "      <th>$ of Loans Originated</th>\n",
       "      <th># of Disbursements</th>\n",
       "      <th>$ of Disbursements</th>\n",
       "    </tr>\n",
       "  </thead>\n",
       "  <tbody>\n",
       "    <tr>\n",
       "      <th>0</th>\n",
       "      <td>0</td>\n",
       "      <td>1051</td>\n",
       "      <td>UNIVERSITY OF ALABAMA</td>\n",
       "      <td>TUSCALOOSA</td>\n",
       "      <td>AL</td>\n",
       "      <td>35487</td>\n",
       "      <td>Public</td>\n",
       "      <td>Subsidized</td>\n",
       "      <td>7594</td>\n",
       "      <td>7622</td>\n",
       "      <td>33040862</td>\n",
       "      <td>7622</td>\n",
       "      <td>16774054</td>\n",
       "    </tr>\n",
       "    <tr>\n",
       "      <th>1</th>\n",
       "      <td>1</td>\n",
       "      <td>1052</td>\n",
       "      <td>UNIVERSITY OF ALABAMA AT BIRMINGHAM</td>\n",
       "      <td>BIRMINGHAM</td>\n",
       "      <td>AL</td>\n",
       "      <td>35294</td>\n",
       "      <td>Public</td>\n",
       "      <td>Subsidized</td>\n",
       "      <td>4272</td>\n",
       "      <td>4352</td>\n",
       "      <td>18590061</td>\n",
       "      <td>4352</td>\n",
       "      <td>9058344</td>\n",
       "    </tr>\n",
       "    <tr>\n",
       "      <th>2</th>\n",
       "      <td>2</td>\n",
       "      <td>1009</td>\n",
       "      <td>AUBURN UNIVERSITY</td>\n",
       "      <td>AUBURN</td>\n",
       "      <td>AL</td>\n",
       "      <td>36849</td>\n",
       "      <td>Public</td>\n",
       "      <td>Subsidized</td>\n",
       "      <td>4504</td>\n",
       "      <td>4504</td>\n",
       "      <td>19474542</td>\n",
       "      <td>4535</td>\n",
       "      <td>10142490</td>\n",
       "    </tr>\n",
       "    <tr>\n",
       "      <th>3</th>\n",
       "      <td>3</td>\n",
       "      <td>1057</td>\n",
       "      <td>UNIVERSITY OF SOUTH ALABAMA</td>\n",
       "      <td>MOBILE</td>\n",
       "      <td>AL</td>\n",
       "      <td>36688</td>\n",
       "      <td>Public</td>\n",
       "      <td>Subsidized</td>\n",
       "      <td>3438</td>\n",
       "      <td>3487</td>\n",
       "      <td>15061071</td>\n",
       "      <td>3487</td>\n",
       "      <td>7557853</td>\n",
       "    </tr>\n",
       "    <tr>\n",
       "      <th>4</th>\n",
       "      <td>4</td>\n",
       "      <td>1047</td>\n",
       "      <td>TROY UNIVERSITY</td>\n",
       "      <td>TROY</td>\n",
       "      <td>AL</td>\n",
       "      <td>36082</td>\n",
       "      <td>Public</td>\n",
       "      <td>Subsidized</td>\n",
       "      <td>4334</td>\n",
       "      <td>4355</td>\n",
       "      <td>18467508</td>\n",
       "      <td>4355</td>\n",
       "      <td>7395839</td>\n",
       "    </tr>\n",
       "    <tr>\n",
       "      <th>5</th>\n",
       "      <td>5</td>\n",
       "      <td>1036</td>\n",
       "      <td>SAMFORD UNIVERSITY</td>\n",
       "      <td>BIRMINGHAM</td>\n",
       "      <td>AL</td>\n",
       "      <td>35229</td>\n",
       "      <td>Private-Nonprofit</td>\n",
       "      <td>Subsidized</td>\n",
       "      <td>638</td>\n",
       "      <td>638</td>\n",
       "      <td>2725011</td>\n",
       "      <td>638</td>\n",
       "      <td>1412105</td>\n",
       "    </tr>\n",
       "    <tr>\n",
       "      <th>6</th>\n",
       "      <td>6</td>\n",
       "      <td>1024</td>\n",
       "      <td>UNIVERSITY OF WEST ALABAMA</td>\n",
       "      <td>LIVINGSTON</td>\n",
       "      <td>AL</td>\n",
       "      <td>35470</td>\n",
       "      <td>Public</td>\n",
       "      <td>Subsidized</td>\n",
       "      <td>1085</td>\n",
       "      <td>1098</td>\n",
       "      <td>4552993</td>\n",
       "      <td>1098</td>\n",
       "      <td>2306439</td>\n",
       "    </tr>\n",
       "    <tr>\n",
       "      <th>7</th>\n",
       "      <td>7</td>\n",
       "      <td>42267</td>\n",
       "      <td>ALABAMA COLLEGE OF OSTEOPATHIC MEDICINE</td>\n",
       "      <td>DOTHAN</td>\n",
       "      <td>AL</td>\n",
       "      <td>36303</td>\n",
       "      <td>Private-Nonprofit</td>\n",
       "      <td>Subsidized</td>\n",
       "      <td>0</td>\n",
       "      <td>0</td>\n",
       "      <td>0</td>\n",
       "      <td>0</td>\n",
       "      <td>0</td>\n",
       "    </tr>\n",
       "    <tr>\n",
       "      <th>8</th>\n",
       "      <td>8</td>\n",
       "      <td>1020</td>\n",
       "      <td>JACKSONVILLE STATE UNIVERSITY</td>\n",
       "      <td>JACKSONVILLE</td>\n",
       "      <td>AL</td>\n",
       "      <td>36265</td>\n",
       "      <td>Public</td>\n",
       "      <td>Subsidized</td>\n",
       "      <td>2894</td>\n",
       "      <td>2895</td>\n",
       "      <td>12057276</td>\n",
       "      <td>2895</td>\n",
       "      <td>6150665</td>\n",
       "    </tr>\n",
       "    <tr>\n",
       "      <th>9</th>\n",
       "      <td>9</td>\n",
       "      <td>1050</td>\n",
       "      <td>TUSKEGEE UNIVERSITY</td>\n",
       "      <td>TUSKEGEE</td>\n",
       "      <td>AL</td>\n",
       "      <td>36088</td>\n",
       "      <td>Private-Nonprofit</td>\n",
       "      <td>Subsidized</td>\n",
       "      <td>1104</td>\n",
       "      <td>1107</td>\n",
       "      <td>4957913</td>\n",
       "      <td>1108</td>\n",
       "      <td>2482547</td>\n",
       "    </tr>\n",
       "  </tbody>\n",
       "</table>\n",
       "</div>"
      ],
      "text/plain": [
       "   index  OPE ID                                   School          City State  \\\n",
       "0      0    1051                    UNIVERSITY OF ALABAMA    TUSCALOOSA    AL   \n",
       "1      1    1052      UNIVERSITY OF ALABAMA AT BIRMINGHAM    BIRMINGHAM    AL   \n",
       "2      2    1009                        AUBURN UNIVERSITY        AUBURN    AL   \n",
       "3      3    1057              UNIVERSITY OF SOUTH ALABAMA        MOBILE    AL   \n",
       "4      4    1047                          TROY UNIVERSITY          TROY    AL   \n",
       "5      5    1036                       SAMFORD UNIVERSITY    BIRMINGHAM    AL   \n",
       "6      6    1024               UNIVERSITY OF WEST ALABAMA    LIVINGSTON    AL   \n",
       "7      7   42267  ALABAMA COLLEGE OF OSTEOPATHIC MEDICINE        DOTHAN    AL   \n",
       "8      8    1020            JACKSONVILLE STATE UNIVERSITY  JACKSONVILLE    AL   \n",
       "9      9    1050                      TUSKEGEE UNIVERSITY      TUSKEGEE    AL   \n",
       "\n",
       "  Zip Code        School Type   Loan Type  Recipients  # of Loans Originated  \\\n",
       "0    35487             Public  Subsidized        7594                   7622   \n",
       "1    35294             Public  Subsidized        4272                   4352   \n",
       "2    36849             Public  Subsidized        4504                   4504   \n",
       "3    36688             Public  Subsidized        3438                   3487   \n",
       "4    36082             Public  Subsidized        4334                   4355   \n",
       "5    35229  Private-Nonprofit  Subsidized         638                    638   \n",
       "6    35470             Public  Subsidized        1085                   1098   \n",
       "7    36303  Private-Nonprofit  Subsidized           0                      0   \n",
       "8    36265             Public  Subsidized        2894                   2895   \n",
       "9    36088  Private-Nonprofit  Subsidized        1104                   1107   \n",
       "\n",
       "   $ of Loans Originated  # of Disbursements  $ of Disbursements  \n",
       "0               33040862                7622            16774054  \n",
       "1               18590061                4352             9058344  \n",
       "2               19474542                4535            10142490  \n",
       "3               15061071                3487             7557853  \n",
       "4               18467508                4355             7395839  \n",
       "5                2725011                 638             1412105  \n",
       "6                4552993                1098             2306439  \n",
       "7                      0                   0                   0  \n",
       "8               12057276                2895             6150665  \n",
       "9                4957913                1108             2482547  "
      ]
     },
     "execution_count": 73,
     "metadata": {},
     "output_type": "execute_result"
    }
   ],
   "source": [
    "df.head(10)"
   ]
  },
  {
   "cell_type": "code",
   "execution_count": 74,
   "metadata": {},
   "outputs": [
    {
     "data": {
      "text/html": [
       "<div>\n",
       "<style scoped>\n",
       "    .dataframe tbody tr th:only-of-type {\n",
       "        vertical-align: middle;\n",
       "    }\n",
       "\n",
       "    .dataframe tbody tr th {\n",
       "        vertical-align: top;\n",
       "    }\n",
       "\n",
       "    .dataframe thead th {\n",
       "        text-align: right;\n",
       "    }\n",
       "</style>\n",
       "<table border=\"1\" class=\"dataframe\">\n",
       "  <thead>\n",
       "    <tr style=\"text-align: right;\">\n",
       "      <th></th>\n",
       "      <th>index</th>\n",
       "      <th>OPE ID</th>\n",
       "      <th>Recipients</th>\n",
       "      <th># of Loans Originated</th>\n",
       "      <th>$ of Loans Originated</th>\n",
       "      <th># of Disbursements</th>\n",
       "      <th>$ of Disbursements</th>\n",
       "    </tr>\n",
       "  </thead>\n",
       "  <tbody>\n",
       "    <tr>\n",
       "      <th>count</th>\n",
       "      <td>21370.000000</td>\n",
       "      <td>21370.000000</td>\n",
       "      <td>21370.000000</td>\n",
       "      <td>21370.000000</td>\n",
       "      <td>2.137000e+04</td>\n",
       "      <td>21370.000000</td>\n",
       "      <td>2.137000e+04</td>\n",
       "    </tr>\n",
       "    <tr>\n",
       "      <th>mean</th>\n",
       "      <td>10684.500000</td>\n",
       "      <td>16201.447824</td>\n",
       "      <td>327.571221</td>\n",
       "      <td>336.351006</td>\n",
       "      <td>2.552457e+06</td>\n",
       "      <td>341.877679</td>\n",
       "      <td>1.278388e+06</td>\n",
       "    </tr>\n",
       "    <tr>\n",
       "      <th>std</th>\n",
       "      <td>6169.131962</td>\n",
       "      <td>15479.675287</td>\n",
       "      <td>1026.847813</td>\n",
       "      <td>1057.889512</td>\n",
       "      <td>8.464158e+06</td>\n",
       "      <td>1078.516745</td>\n",
       "      <td>4.298032e+06</td>\n",
       "    </tr>\n",
       "    <tr>\n",
       "      <th>min</th>\n",
       "      <td>0.000000</td>\n",
       "      <td>1002.000000</td>\n",
       "      <td>0.000000</td>\n",
       "      <td>0.000000</td>\n",
       "      <td>0.000000e+00</td>\n",
       "      <td>0.000000</td>\n",
       "      <td>0.000000e+00</td>\n",
       "    </tr>\n",
       "    <tr>\n",
       "      <th>25%</th>\n",
       "      <td>5342.250000</td>\n",
       "      <td>2848.000000</td>\n",
       "      <td>0.000000</td>\n",
       "      <td>0.000000</td>\n",
       "      <td>0.000000e+00</td>\n",
       "      <td>0.000000</td>\n",
       "      <td>0.000000e+00</td>\n",
       "    </tr>\n",
       "    <tr>\n",
       "      <th>50%</th>\n",
       "      <td>10684.500000</td>\n",
       "      <td>8447.500000</td>\n",
       "      <td>10.000000</td>\n",
       "      <td>10.000000</td>\n",
       "      <td>5.841800e+04</td>\n",
       "      <td>10.000000</td>\n",
       "      <td>2.873850e+04</td>\n",
       "    </tr>\n",
       "    <tr>\n",
       "      <th>75%</th>\n",
       "      <td>16026.750000</td>\n",
       "      <td>30837.000000</td>\n",
       "      <td>188.750000</td>\n",
       "      <td>192.000000</td>\n",
       "      <td>1.430073e+06</td>\n",
       "      <td>197.000000</td>\n",
       "      <td>7.090422e+05</td>\n",
       "    </tr>\n",
       "    <tr>\n",
       "      <th>max</th>\n",
       "      <td>21369.000000</td>\n",
       "      <td>42933.000000</td>\n",
       "      <td>26663.000000</td>\n",
       "      <td>27261.000000</td>\n",
       "      <td>2.586015e+08</td>\n",
       "      <td>27261.000000</td>\n",
       "      <td>1.085654e+08</td>\n",
       "    </tr>\n",
       "  </tbody>\n",
       "</table>\n",
       "</div>"
      ],
      "text/plain": [
       "              index        OPE ID    Recipients  # of Loans Originated  \\\n",
       "count  21370.000000  21370.000000  21370.000000           21370.000000   \n",
       "mean   10684.500000  16201.447824    327.571221             336.351006   \n",
       "std     6169.131962  15479.675287   1026.847813            1057.889512   \n",
       "min        0.000000   1002.000000      0.000000               0.000000   \n",
       "25%     5342.250000   2848.000000      0.000000               0.000000   \n",
       "50%    10684.500000   8447.500000     10.000000              10.000000   \n",
       "75%    16026.750000  30837.000000    188.750000             192.000000   \n",
       "max    21369.000000  42933.000000  26663.000000           27261.000000   \n",
       "\n",
       "       $ of Loans Originated  # of Disbursements  $ of Disbursements  \n",
       "count           2.137000e+04        21370.000000        2.137000e+04  \n",
       "mean            2.552457e+06          341.877679        1.278388e+06  \n",
       "std             8.464158e+06         1078.516745        4.298032e+06  \n",
       "min             0.000000e+00            0.000000        0.000000e+00  \n",
       "25%             0.000000e+00            0.000000        0.000000e+00  \n",
       "50%             5.841800e+04           10.000000        2.873850e+04  \n",
       "75%             1.430073e+06          197.000000        7.090422e+05  \n",
       "max             2.586015e+08        27261.000000        1.085654e+08  "
      ]
     },
     "execution_count": 74,
     "metadata": {},
     "output_type": "execute_result"
    }
   ],
   "source": [
    "df.describe()"
   ]
  },
  {
   "cell_type": "markdown",
   "metadata": {},
   "source": [
    "## Step 2\n",
    "### Ask the questions"
   ]
  },
  {
   "cell_type": "markdown",
   "metadata": {},
   "source": [
    "State, What is the breakdown of number of collages in each state? P"
   ]
  },
  {
   "cell_type": "markdown",
   "metadata": {},
   "source": [
    "State, What is the breakdown of recipients of Student Loans by State (by quantity and by $)?P"
   ]
  },
  {
   "cell_type": "markdown",
   "metadata": {},
   "source": [
    "State, What states have the most (public schools? Private schools?) recipients?P"
   ]
  },
  {
   "cell_type": "markdown",
   "metadata": {},
   "source": [
    "State, What are the top 10 states with the most student loans?L"
   ]
  },
  {
   "cell_type": "markdown",
   "metadata": {},
   "source": [
    "Geographic, How does the average student loan vary by zip code?M"
   ]
  },
  {
   "cell_type": "code",
   "execution_count": null,
   "metadata": {},
   "outputs": [],
   "source": []
  },
  {
   "cell_type": "markdown",
   "metadata": {},
   "source": [
    "Geographic, Are there trends based on geographic region or type of school?T"
   ]
  },
  {
   "cell_type": "code",
   "execution_count": null,
   "metadata": {},
   "outputs": [],
   "source": []
  },
  {
   "cell_type": "markdown",
   "metadata": {},
   "source": [
    "Loan Type, What is the breakdown of type of student loan  (subsidized, unsubsidized, grad plus, parent plus, etc.)?M"
   ]
  },
  {
   "cell_type": "code",
   "execution_count": 75,
   "metadata": {},
   "outputs": [
    {
     "data": {
      "text/plain": [
       "Index(['index', 'OPE ID', 'School', 'City', 'State', 'Zip Code', 'School Type',\n",
       "       'Loan Type', 'Recipients', '# of Loans Originated',\n",
       "       '$ of Loans Originated', '# of Disbursements', '$ of Disbursements'],\n",
       "      dtype='object')"
      ]
     },
     "execution_count": 75,
     "metadata": {},
     "output_type": "execute_result"
    }
   ],
   "source": [
    "df.columns"
   ]
  },
  {
   "cell_type": "code",
   "execution_count": 88,
   "metadata": {},
   "outputs": [
    {
     "data": {
      "text/plain": [
       "Subsidized                      4274\n",
       "Unsubsidized - Undergraduate    4274\n",
       "Unsubsidized - Graduate         4274\n",
       "Parent Plus                     4274\n",
       "Grad Plus                       4274\n",
       "Name: Loan Type, dtype: int64"
      ]
     },
     "execution_count": 88,
     "metadata": {},
     "output_type": "execute_result"
    }
   ],
   "source": [
    "loan_names = df[\"Loan Type\"].value_counts()\n",
    "loan_names"
   ]
  },
  {
   "cell_type": "code",
   "execution_count": 89,
   "metadata": {},
   "outputs": [
    {
     "data": {
      "text/html": [
       "<div>\n",
       "<style scoped>\n",
       "    .dataframe tbody tr th:only-of-type {\n",
       "        vertical-align: middle;\n",
       "    }\n",
       "\n",
       "    .dataframe tbody tr th {\n",
       "        vertical-align: top;\n",
       "    }\n",
       "\n",
       "    .dataframe thead th {\n",
       "        text-align: right;\n",
       "    }\n",
       "</style>\n",
       "<table border=\"1\" class=\"dataframe\">\n",
       "  <thead>\n",
       "    <tr style=\"text-align: right;\">\n",
       "      <th></th>\n",
       "      <th>Recipients</th>\n",
       "      <th># of Disbursements</th>\n",
       "      <th>$ of Disbursements</th>\n",
       "    </tr>\n",
       "    <tr>\n",
       "      <th>Loan Type</th>\n",
       "      <th></th>\n",
       "      <th></th>\n",
       "      <th></th>\n",
       "    </tr>\n",
       "  </thead>\n",
       "  <tbody>\n",
       "    <tr>\n",
       "      <th>Grad Plus</th>\n",
       "      <td>290765</td>\n",
       "      <td>312189</td>\n",
       "      <td>3751925629</td>\n",
       "    </tr>\n",
       "    <tr>\n",
       "      <th>Parent Plus</th>\n",
       "      <td>420715</td>\n",
       "      <td>432083</td>\n",
       "      <td>3819328361</td>\n",
       "    </tr>\n",
       "    <tr>\n",
       "      <th>Subsidized</th>\n",
       "      <td>2607417</td>\n",
       "      <td>2677884</td>\n",
       "      <td>5335392322</td>\n",
       "    </tr>\n",
       "    <tr>\n",
       "      <th>Unsubsidized - Graduate</th>\n",
       "      <td>909824</td>\n",
       "      <td>970234</td>\n",
       "      <td>8649219445</td>\n",
       "    </tr>\n",
       "    <tr>\n",
       "      <th>Unsubsidized - Undergraduate</th>\n",
       "      <td>2771476</td>\n",
       "      <td>2913536</td>\n",
       "      <td>5763289607</td>\n",
       "    </tr>\n",
       "  </tbody>\n",
       "</table>\n",
       "</div>"
      ],
      "text/plain": [
       "                              Recipients  # of Disbursements  \\\n",
       "Loan Type                                                      \n",
       "Grad Plus                         290765              312189   \n",
       "Parent Plus                       420715              432083   \n",
       "Subsidized                       2607417             2677884   \n",
       "Unsubsidized - Graduate           909824              970234   \n",
       "Unsubsidized - Undergraduate     2771476             2913536   \n",
       "\n",
       "                              $ of Disbursements  \n",
       "Loan Type                                         \n",
       "Grad Plus                             3751925629  \n",
       "Parent Plus                           3819328361  \n",
       "Subsidized                            5335392322  \n",
       "Unsubsidized - Graduate               8649219445  \n",
       "Unsubsidized - Undergraduate          5763289607  "
      ]
     },
     "execution_count": 89,
     "metadata": {},
     "output_type": "execute_result"
    }
   ],
   "source": [
    "loan_type = df.groupby(\"Loan Type\")[[\"Recipients\", \"# of Disbursements\", \"$ of Disbursements\"]].sum()\n",
    "\n",
    "\n",
    "def format_with_commas(x):\n",
    "    if isinstance(x, (int, float)):\n",
    "        return \"{:,.0f}\".format(x)\n",
    "    return x\n",
    "\n",
    "#loan_type['Recipients'] = loan_type['Recipients'].apply(format_with_commas)\n",
    "\n",
    "#loan_type['# of Disbursements'] = loan_type['# of Disbursements'].apply(format_with_commas)\n",
    "\n",
    "#loan_type['$ of Disbursements'] = loan_type['$ of Disbursements'].apply(format_with_commas)\n",
    "\n",
    "loan_type\n",
    "\n",
    "#loan_type_amounts = df.groupby('Loan Type')['# of Disbursements'].sum()\n",
    "#loan_type_amounts"
   ]
  },
  {
   "cell_type": "code",
   "execution_count": 106,
   "metadata": {},
   "outputs": [
    {
     "data": {
      "image/png": "[encoded data removed]",
      "text/plain": [
       "<Figure size 800x600 with 1 Axes>"
      ]
     },
     "metadata": {},
     "output_type": "display_data"
    }
   ],
   "source": [
    "import matplotlib.pyplot as plt\n",
    "\n",
    "# Assuming df is already prepared\n",
    "df['dollar_disbursement'] = df[\"$ of Disbursements\"] / 1_000  # Convert to millions for plotting\n",
    "loan_type = df.groupby(\"Loan Type\")[[\"Recipients\", \"# of Disbursements\", \"dollar_disbursement\"]].sum()\n",
    "\n",
    "ax = loan_type.plot(kind=\"bar\", color=[\"red\", \"green\", \"blue\"], figsize=(8,6))\n",
    "\n",
    "plt.xlabel(\"Loan Type Categories\")\n",
    "plt.ylabel(\"Amounts (in thousands)\") \n",
    "plt.title(\"Amounts of Loans Provided by Loan Categories\")\n",
    "\n",
    "# # Adjust y-ticks\n",
    "# ax.set_yticklabels([int(val) for val in ax.get_yticks()])\n",
    "\n",
    "plt.xticks(rotation=45)\n",
    "plt.tight_layout()\n",
    "\n",
    "plt.show()"
   ]
  },
  {
   "cell_type": "code",
   "execution_count": 101,
   "metadata": {},
   "outputs": [
    {
     "name": "stderr",
     "output_type": "stream",
     "text": [
      "C:\\Users\\mdrco\\AppData\\Local\\Temp\\ipykernel_19180\\531666507.py:14: UserWarning: FixedFormatter should only be used together with FixedLocator\n",
      "  plt.gca().set_yticklabels(y_values)\n"
     ]
    },
    {
     "data": {
      "image/png": "[encoded data removed]",
      "text/plain": [
       "<Figure size 800x600 with 1 Axes>"
      ]
     },
     "metadata": {},
     "output_type": "display_data"
    }
   ],
   "source": [
    "\n",
    "df['dollar_disbursement'] = df[\"$ of Disbursements\"] / 1000\n",
    "loan_type = df.groupby(\"Loan Type\")[[\"Recipients\", \"# of Disbursements\", \"dollar_disbursement\"]].sum()\n",
    "#x_axis = np.arange(len())\n",
    "tick_locations = [value for value in x_axis]\n",
    "\n",
    "\n",
    "ax = loan_type.plot(kind=\"bar\",color=[\"red\", \"green\", \"blue\"], figsize=(8,6))\n",
    "\n",
    "plt.xlabel(\"Loan Type Categories\")\n",
    "plt.ylabel(\"Numbers\")\n",
    "plt.title(\"Amounts of Loans Provided by Loan Categories\")\n",
    "plt.ticklabel_format(useOffset=False, style=\"plain\", axis=\"y\")\n",
    "\n",
    "y_values = [int(label) for label in plt.gca().get_yticks()]\n",
    "plt.gca().set_yticklabels(y_values)\n",
    "\n",
    "plt.xticks(rotation=45)\n",
    "plt.tight_layout()\n",
    "\n",
    "plt.show()\n"
   ]
  },
  {
   "cell_type": "code",
   "execution_count": null,
   "metadata": {},
   "outputs": [],
   "source": []
  },
  {
   "cell_type": "code",
   "execution_count": 84,
   "metadata": {},
   "outputs": [
    {
     "name": "stdout",
     "output_type": "stream",
     "text": [
      "<class 'pandas.core.frame.DataFrame'>\n",
      "RangeIndex: 21370 entries, 0 to 21369\n",
      "Data columns (total 13 columns):\n",
      " #   Column                 Non-Null Count  Dtype \n",
      "---  ------                 --------------  ----- \n",
      " 0   index                  21370 non-null  int64 \n",
      " 1   OPE ID                 21370 non-null  int64 \n",
      " 2   School                 21370 non-null  object\n",
      " 3   City                   16825 non-null  object\n",
      " 4   State                  20350 non-null  object\n",
      " 5   Zip Code               21370 non-null  object\n",
      " 6   School Type            21370 non-null  object\n",
      " 7   Loan Type              21370 non-null  object\n",
      " 8   Recipients             21370 non-null  int32 \n",
      " 9   # of Loans Originated  21370 non-null  int32 \n",
      " 10  $ of Loans Originated  21370 non-null  int64 \n",
      " 11  # of Disbursements     21370 non-null  int32 \n",
      " 12  $ of Disbursements     21370 non-null  int64 \n",
      "dtypes: int32(3), int64(4), object(6)\n",
      "memory usage: 1.9+ MB\n"
     ]
    }
   ],
   "source": [
    "df.info()"
   ]
  },
  {
   "cell_type": "code",
   "execution_count": null,
   "metadata": {},
   "outputs": [
    {
     "name": "stderr",
     "output_type": "stream",
     "text": [
      "C:\\Users\\mdrco\\AppData\\Local\\Temp\\ipykernel_19180\\264473623.py:2: FutureWarning: Indexing with multiple keys (implicitly converted to a tuple of keys) will be deprecated, use a list instead.\n",
      "  loan_type_avg = df.groupby(\"Loan Type\")[\"# of Disbursements\", \"$ of Disbursements\"].mean()\n"
     ]
    },
    {
     "data": {
      "text/html": [
       "<div>\n",
       "<style scoped>\n",
       "    .dataframe tbody tr th:only-of-type {\n",
       "        vertical-align: middle;\n",
       "    }\n",
       "\n",
       "    .dataframe tbody tr th {\n",
       "        vertical-align: top;\n",
       "    }\n",
       "\n",
       "    .dataframe thead th {\n",
       "        text-align: right;\n",
       "    }\n",
       "</style>\n",
       "<table border=\"1\" class=\"dataframe\">\n",
       "  <thead>\n",
       "    <tr style=\"text-align: right;\">\n",
       "      <th></th>\n",
       "      <th># of Disbursements</th>\n",
       "      <th>$ of Disbursements</th>\n",
       "    </tr>\n",
       "    <tr>\n",
       "      <th>Loan Type</th>\n",
       "      <th></th>\n",
       "      <th></th>\n",
       "    </tr>\n",
       "  </thead>\n",
       "  <tbody>\n",
       "    <tr>\n",
       "      <th>Grad Plus</th>\n",
       "      <td>73.043753</td>\n",
       "      <td>8.778488e+05</td>\n",
       "    </tr>\n",
       "    <tr>\n",
       "      <th>Parent Plus</th>\n",
       "      <td>101.095695</td>\n",
       "      <td>8.936192e+05</td>\n",
       "    </tr>\n",
       "    <tr>\n",
       "      <th>Subsidized</th>\n",
       "      <td>626.552176</td>\n",
       "      <td>1.248337e+06</td>\n",
       "    </tr>\n",
       "    <tr>\n",
       "      <th>Unsubsidized - Graduate</th>\n",
       "      <td>227.008423</td>\n",
       "      <td>2.023683e+06</td>\n",
       "    </tr>\n",
       "    <tr>\n",
       "      <th>Unsubsidized - Undergraduate</th>\n",
       "      <td>681.688348</td>\n",
       "      <td>1.348453e+06</td>\n",
       "    </tr>\n",
       "  </tbody>\n",
       "</table>\n",
       "</div>"
      ],
      "text/plain": [
       "                              # of Disbursements  $ of Disbursements\n",
       "Loan Type                                                           \n",
       "Grad Plus                              73.043753        8.778488e+05\n",
       "Parent Plus                           101.095695        8.936192e+05\n",
       "Subsidized                            626.552176        1.248337e+06\n",
       "Unsubsidized - Graduate               227.008423        2.023683e+06\n",
       "Unsubsidized - Undergraduate          681.688348        1.348453e+06"
      ]
     },
     "execution_count": 63,
     "metadata": {},
     "output_type": "execute_result"
    }
   ],
   "source": [
    "#Determine the average amount of loans per Loan Tyoe\n",
    "loan_type_avg = df.groupby(\"Loan Type\")[\"# of Disbursements\", \"$ of Disbursements\"].mean()\n",
    "\n",
    "loan_type_avg"
   ]
  },
  {
   "cell_type": "code",
   "execution_count": null,
   "metadata": {},
   "outputs": [],
   "source": []
  },
  {
   "cell_type": "markdown",
   "metadata": {},
   "source": [
    "School Type, What is the breakdown of student loan quantity/$ by school type (for profit, non-profit, public, etc.)?L"
   ]
  },
  {
   "cell_type": "markdown",
   "metadata": {},
   "source": [
    "<!-- VS, What is the breakdown in disbursements versus loan origination $ amounts? -->"
   ]
  },
  {
   "cell_type": "markdown",
   "metadata": {},
   "source": [
    "<!-- VS, Which schools have the highest disparity between loans originated and loans disbursed? -->"
   ]
  },
  {
   "cell_type": "markdown",
   "metadata": {},
   "source": [
    "API, Foreign university, VS US"
   ]
  },
  {
   "cell_type": "markdown",
   "metadata": {},
   "source": [
    "More datasets"
   ]
  }
 ],
 "metadata": {
  "kernelspec": {
   "display_name": "dev",
   "language": "python",
   "name": "python3"
  },
  "language_info": {
   "codemirror_mode": {
    "name": "ipython",
    "version": 3
   },
   "file_extension": ".py",
   "mimetype": "text/x-python",
   "name": "python",
   "nbconvert_exporter": "python",
   "pygments_lexer": "ipython3",
   "version": "3.10.12"
  },
  "orig_nbformat": 4
 },
 "nbformat": 4,
 "nbformat_minor": 2
}
